{
 "cells": [
  {
   "cell_type": "markdown",
   "metadata": {
    "id": "BX7SgOeWu86I"
   },
   "source": [
    "안녕하세요. 수강생 여러분~! \n",
    "\n",
    "다시 돌아온 조금 더 성장할 기 ! 회 ! \n",
    "\n",
    "Chapter01 ~ 16의 수업 내용을 바탕으로 아래 문제를 풀어주시면 됩니다 !\n",
    "\n",
    "지금까지 잘 해오셨으니까, 총 복습한다고 생각하시고 한번 도전해보세요 !!!\n",
    "\n",
    "차근 차근 문제와 요구사항을 읽고 작성해보세요.\n",
    "\n",
    "<br>\n",
    "\n",
    "\n",
    "[**답변 입력 방법**]\n",
    "\n",
    "문제 아래에 있는 코드 입력창에 정답코드를 작성하신 후  __▷ 버튼을 클릭해 코드를 실행__ 해보세요<br>"
   ]
  },
  {
   "cell_type": "markdown",
   "metadata": {},
   "source": [
    "---"
   ]
  },
  {
   "cell_type": "markdown",
   "metadata": {},
   "source": [
    "#### 프로젝트: 붕어빵 자동 판매 시스템\n",
    "\n",
    "\n",
    "당신은 붕어빵 가게의 주인입니다. \n",
    "\n",
    "손님들이 붕어빵을 주문하면 이를 자동으로 처리하고, 재고를 관리하는 시스템을 만들고자 합니다. \n",
    "\n",
    "또한, 관리자 모드를 통해 재고를 추가할 수 있는 기능을 구현해야 합니다.\n"
   ]
  },
  {
   "cell_type": "markdown",
   "metadata": {},
   "source": [
    "__[문제 1: 붕어빵 재고 확인]__\n",
    "\n",
    "붕어빵 가게의 현재 재고를 확인하는 기능을 구현하세요.\n",
    "\n",
    "요구사항:\n",
    "- 현재 붕어빵의 재고를 딕셔너리로 관리합니다.\n",
    "- 딕셔너리에는 붕어빵의 종류와 각각의 재고 개수가 저장됩니다.\n",
    "- 현재 재고를 화면에 출력하세요.\n",
    "\n",
    "붕어빵 재고\n",
    "- 팥붕어빵 : 10개\n",
    "- 슈크림붕어빵 : 8개\n",
    "- 초코붕어빵 : 5개"
   ]
  },
  {
   "cell_type": "code",
   "execution_count": 84,
   "metadata": {},
   "outputs": [
    {
     "name": "stdout",
     "output_type": "stream",
     "text": [
      "팥붕어빵 : 23개\n",
      "슈크림붕어빵 : 18개\n",
      "초코붕어빵 : 9개\n"
     ]
    }
   ],
   "source": [
    "# 붕어빵 재고\n",
    "fish_bun = {\"팥붕어빵\" : \"23\", \"슈크림붕어빵\" : \"18\", \"초코붕어빵\" : \"9\"}\n",
    "\n",
    "# 붕어빵 재고 있음.\n",
    "if fish_bun:\n",
    "    for bread, count in fish_bun.items():\n",
    "        print(f'{bread} : {count}개')\n",
    "else:\n",
    "        print(\"붕어빵 재고가 없습니다.\")\n",
    "\n"
   ]
  },
  {
   "cell_type": "markdown",
   "metadata": {},
   "source": [
    "__[문제 2: 붕어빵 주문 받기]__\n",
    "\n",
    "손님이 주문한 붕어빵의 종류와 개수를 입력받는 기능을 구현하세요.\n",
    "\n",
    "요구사항:\n",
    "- 손님이 주문할 붕어빵의 종류와 개수를 입력받습니다.\n",
    "- 주문 내용을 딕셔너리에 저장하세요.\n",
    "- 주문 내역을 출력해주세요."
   ]
  },
  {
   "cell_type": "code",
   "execution_count": 98,
   "metadata": {},
   "outputs": [
    {
     "name": "stdout",
     "output_type": "stream",
     "text": [
      "메   뉴 : 1.팥, 2.슈크림, 3.초코\n",
      "주문내역 : 팥붕어빵, 1개\n"
     ]
    }
   ],
   "source": [
    "# 주문내용 딕셔너리\n",
    "order_dict = {}\n",
    "\n",
    "#  붕어빵 \n",
    "print(\"메   뉴 : 1.팥, 2.슈크림, 3.초코\")\n",
    "\n",
    "# 붕어빵 종류 번호로 선택\n",
    "order_num = int(input(\"붕어빵의 번호를 선택해주세요 (1.팥 / 2.슈크림 / 3.초코) : \"))\n",
    "\n",
    "# 붕어빵 개수 선택\n",
    "fish_bun_order = int(input(\"붕어빵의 개수를 선택해주세요 : \"))\n",
    "\n",
    "# 붕어빵종류 및 개수 출력\n",
    "if order_num == 1:\n",
    "    order_dict[\"팥붕어빵\"] = fish_bun_order\n",
    "elif order_num == 3:\n",
    "    order_dict[\"슈크림붕어빵\"] = fish_bun_order\n",
    "else:\n",
    "    order_dict[\"초코붕어빵\"] = fish_bun_order\n",
    "\n",
    "# 주문내역 출력\n",
    "print(\"주문내역 :\", end = \" \")\n",
    "for bun, count in order_dict.items():\n",
    "    print(f'{bun}, {count}개')\n"
   ]
  },
  {
   "cell_type": "markdown",
   "metadata": {},
   "source": [
    "__[문제 3: 붕어빵 주문 처리]__\n",
    "\n",
    "손님의 주문을 처리하여 붕어빵 재고를 업데이트하는 기능을 구현하세요.\n",
    "\n",
    "요구사항:\n",
    "- 손님의 주문 내용을 기반으로 재고를 업데이트합니다.\n",
    "- 재고가 부족할 경우, 손님에게 재고 부족을 알리고 재고를 감소시키지 않습니다.\n",
    "- 재고가 충분할 경우, 주문한 만큼 재고를 감소시키고 판매를 완료합니다.\n",
    "- 판매가 완료된 경우 판매된 붕어빵 맛과 개수를 출력하세요."
   ]
  },
  {
   "cell_type": "code",
   "execution_count": 85,
   "metadata": {},
   "outputs": [
    {
     "name": "stdout",
     "output_type": "stream",
     "text": [
      "팥붕어빵 1개, 주문이 완료되었습니다.\n",
      "팥붕어빵 22개가 남았습니다.\n"
     ]
    }
   ],
   "source": [
    "# 붕어빵 재고\n",
    "fish_bun = {\"팥붕어빵\": 23, \"슈크림붕어빵\": 18, \"초코붕어빵\": 9}\n",
    "\n",
    "# 손님의 주문을 처리\n",
    "order_bun_type = input(\"붕어빵 종류를 선택하세요. (팥붕어빵, 슈크림붕어빵, 초코붕어빵)\")\n",
    "order_bun_count = int(input(\"붕어빵 개수를 선택하세요\"))\n",
    "\n",
    "\n",
    "# 붕어빵 재고 확인\n",
    "if order_bun_type in fish_bun:\n",
    "    # 붕어빵 재고 개수\n",
    "    stock_bun_count = fish_bun[order_bun_type]\n",
    "\n",
    "    # 손님의 주문 처리\n",
    "    if order_bun_count > 0 and order_bun_count <= stock_bun_count:\n",
    "        # 재고에서 손님의 주문 건 차감\n",
    "        fish_bun[order_bun_type] -= order_bun_count\n",
    "        print(f'{order_bun_type} {order_bun_count}개, 주문이 완료되었습니다.')\n",
    "\n",
    "        # 재고 업데이트\n",
    "        print(f'{order_bun_type} {fish_bun[order_bun_type]}개가 남았습니다.')\n",
    "\n",
    "        # 주문 수량 입력 오류\n",
    "    elif order_bun_count <= 0 :\n",
    "        print('주문 수량을 1개 이상 입력해주세요.')\n",
    "    else:\n",
    "        # 재고가 부족한 경우\n",
    "        print(f'{order_bun_type}의 재고가 부족합니다. 현재 재고는 {stock_bun_count}개입니다.')    \n",
    "\n",
    "else:\n",
    "    # 붕어빵 종류 입력 오류\n",
    "    print('붕어빵 종류가 없습니다. 다시 주문해주세요.')\n",
    "\n"
   ]
  },
  {
   "cell_type": "markdown",
   "metadata": {},
   "source": [
    "__[문제 4: 여러 손님 주문 처리]__\n",
    "\n",
    "여러 손님들의 주문을 처리할 수 있도록 시스템을 확장하세요.\n",
    "\n",
    "요구사항:\n",
    "- 손님이 \"종료\"를 입력할 때까지 주문을 계속 받습니다.\n",
    "- 각 주문마다 재고를 업데이트합니다.\n",
    "- 현재 재고를 화면에 출력합니다."
   ]
  },
  {
   "cell_type": "code",
   "execution_count": 86,
   "metadata": {},
   "outputs": [
    {
     "name": "stdout",
     "output_type": "stream",
     "text": [
      "팥붕어빵 1개, 주문이 완료되었습니다.\n",
      "팥붕어빵 22개가 남았습니다.\n",
      "주문을 종료합니다.\n"
     ]
    }
   ],
   "source": [
    "# 초기 붕어빵 재고 설정\n",
    "fish_bun = {\"팥붕어빵\": 23, \"슈크림붕어빵\": 18, \"초코붕어빵\": 9}\n",
    "\n",
    "while True:\n",
    "    # 붕어빵 종류 입력\n",
    "    order_bun_type = input(\"붕어빵 종류를 선택해주세요. (1.팥붕어빵, 2.슈크림붕어빵, 3. 초코붕어빵)\")\n",
    "\n",
    "    # 주문 종료\n",
    "    if order_bun_type == \"종료\":\n",
    "        print(\"주문을 종료합니다.\")\n",
    "        break\n",
    "\n",
    "    # 붕어빵 종류 확인\n",
    "    if order_bun_type not in fish_bun:\n",
    "        print(\"붕어빵 종류가 없습니다. 다시 선택해주세요.\")\n",
    "        continue\n",
    "\n",
    "    # 붕어빵 개수 입력(정수 변환)\n",
    "    try:\n",
    "        order_bun_count = int(input(\"붕어빵 개수를 입력해주세요.\"))\n",
    "    except ValueError:\n",
    "        print(\"붕어빵 재고가 없습니다. 다시 입력해주세요\")\n",
    "        continue\n",
    "        \n",
    "    # 주문후 업데이트 된 붕어빵의 재고\n",
    "    stock_bun_count = fish_bun[order_bun_type]\n",
    "\n",
    "    # 붕어빵 재고 확인 및 처리\n",
    "    if order_bun_count > 0 and order_bun_count <= stock_bun_count:\n",
    "        # 재고에서 손님의 주문 건 차감\n",
    "        fish_bun[order_bun_type] -= order_bun_count\n",
    "        print(f'{order_bun_type} {order_bun_count}개, 주문이 완료되었습니다.')\n",
    "\n",
    "        # 재고 업데이트\n",
    "        print(f'{order_bun_type} {fish_bun[order_bun_type]}개가 남았습니다.')\n",
    "\n",
    "    else:\n",
    "        # 재고가 부족한 경우\n",
    "        print(f'{order_bun_type}의 재고가 부족합니다. 현재 재고는 {stock_bun_count}개입니다.')  \n",
    "\n",
    "\n"
   ]
  },
  {
   "cell_type": "markdown",
   "metadata": {},
   "source": [
    "__[문제 5: 관리자 모드]__\n",
    "\n",
    "관리자 모드를 통해 붕어빵 재고를 추가할 수 있는 기능을 구현하세요.\n",
    "\n",
    "요구사항:\n",
    "- 관리자는 특정 붕어빵의 재고를 추가할 수 있습니다.\n",
    "- \"종료\"를 입력하면 관리자 모드를 종료합니다.\n",
    "- 추가된 재고를 업데이트하고 현재 재고를 화면에 출력합니다."
   ]
  },
  {
   "cell_type": "code",
   "execution_count": null,
   "metadata": {},
   "outputs": [
    {
     "name": "stdout",
     "output_type": "stream",
     "text": [
      "팥붕어빵 1개 추가되었습니다.\n",
      "팥붕어빵 재고: 24\n",
      "슈크림붕어빵 1개 추가되었습니다.\n",
      "슈크림붕어빵 재고: 19\n",
      "종료되었습니다.\n"
     ]
    }
   ],
   "source": [
    "# 초기 붕어빵 재고 설정\n",
    "fish_bun = {\"팥붕어빵\": 23, \"슈크림붕어빵\": 18, \"초코붕어빵\": 9}\n",
    "\n",
    "# 관리자 재고 업데이트 초기화\n",
    "admin_stock_count = 0\n",
    "\n",
    "while True : \n",
    "    # 재고 추가\n",
    "    admin_add_bun_type = input(\"추가할 종류를 입력하세요(1.팥붕어빵, 2.슈크림붕어빵, 3.초코붕어빵)\")\n",
    "\n",
    "    # 관리자 모드 해제\n",
    "    if admin_add_bun_type == \"종료\":\n",
    "        print(\"종료되었습니다.\")\n",
    "        break\n",
    "\n",
    "    # 붕어빵 종류 입력 오류\n",
    "    if admin_add_bun_type not in fish_bun:\n",
    "        print(\"해당되는 붕어빵 종류가 없습니다. 다시 입력하세요.\")\n",
    "        continue\n",
    "\n",
    "    # 붕어빵 재고 개수 추가 및 예외처리\n",
    "    try:\n",
    "        admin_add_bun_count = int(input(\"추가할 개수를 입력하세요.\"))\n",
    "    except ValueError:\n",
    "        print(\"붕어빵 개수를 다시 입력하세요.\")\n",
    "        continue   \n",
    "\n",
    "    # 붕어빵 재고 업데이트\n",
    "    fish_bun[admin_add_bun_type] += admin_add_bun_count\n",
    "    # 추가된 재고 출력\n",
    "    print(f'{admin_add_bun_type} {admin_add_bun_count}개 추가되었습니다.')\n",
    "    # 현재 재고 출력\n",
    "    print(f'{admin_add_bun_type} 재고: {fish_bun[admin_add_bun_type]}')"
   ]
  },
  {
   "cell_type": "markdown",
   "metadata": {},
   "source": [
    "__[문제 6: 매출 확인]__\n",
    "\n",
    "붕어빵 판매 가격을 설정하고, 판매한 붕어빵의 매출을 계산하세요.\n",
    "\n",
    "요구사항:\n",
    "- 각 붕어빵의 가격을 딕셔너리로 관리합니다.\n",
    "- 판매된 붕어빵의 종류와 개수를 딕셔너리로 관리합니다.\n",
    "- 총 매출을 계산하여 출력합니다.\n",
    "\n",
    "초기 설정:\n",
    "- 가격\n",
    "    - \"팥붕어빵\": 1000\n",
    "    - \"슈크림붕어빵\": 1200\n",
    "    - \"초코붕어빵\": 1500\n",
    "\n",
    "- 판매 개수\n",
    "    - \"팥붕어빵\": 0\n",
    "    - \"슈크림붕어빵\": 0\n",
    "    - \"초코붕어빵\": 0"
   ]
  },
  {
   "cell_type": "code",
   "execution_count": 141,
   "metadata": {},
   "outputs": [
    {
     "name": "stdout",
     "output_type": "stream",
     "text": [
      "팥붕어빵 1개가 판매되었습니다.\n",
      "누적금액 : \n",
      "팥붕어빵 1개 1,000원\n",
      "슈크림붕어빵 0개 0원\n",
      "초코붕어빵 0개 0원\n",
      "총 매출 : 1,000원\n",
      "슈크림붕어빵 2개가 판매되었습니다.\n",
      "누적금액 : \n",
      "팥붕어빵 1개 1,000원\n",
      "슈크림붕어빵 2개 2,400원\n",
      "초코붕어빵 0개 0원\n",
      "총 매출 : 3,400원\n",
      "초코붕어빵 3개가 판매되었습니다.\n",
      "누적금액 : \n",
      "팥붕어빵 1개 1,000원\n",
      "슈크림붕어빵 2개 2,400원\n",
      "초코붕어빵 3개 4,500원\n",
      "총 매출 : 7,900원\n",
      "주문이 종료되었습니다.\n"
     ]
    }
   ],
   "source": [
    "fish_bun_price = {\"팥붕어빵\" : 1000, \"슈크림붕어빵\" : 1200, \"초코붕어빵\" : 1500}\n",
    "\n",
    "sold_bun_count = {\"팥붕어빵\": 0, \"슈크림붕어빵\": 0, \"초코붕어빵\": 0}\n",
    "\n",
    "# 붕어빵 구매\n",
    "while True: \n",
    "    # 주문: 붕어빵 종류 선택\n",
    "    order_bun_type = input(\"붕어빵 종류를 선택하세요. (1.팥붕어빵 / 2.슈크림붕어빵 / 3.초코붕어빵)\")\n",
    "    \n",
    "    # 종료\n",
    "    if order_bun_type == \"종료\":\n",
    "        print(\"주문이 종료되었습니다.\")\n",
    "        break\n",
    "\n",
    "    # 붕어빵 종류 입력 오류 처리\n",
    "    if order_bun_type == \"1\":\n",
    "        order_bun_type = \"팥붕어빵\"\n",
    "    elif order_bun_type == \"2\":\n",
    "        order_bun_type = \"슈크림붕어빵\"\n",
    "    elif order_bun_type == \"3\":\n",
    "        order_bun_type = \"초코붕어빵\"\n",
    "    else:\n",
    "        print(\"잘못된 입력입니다. 다시 시도하세요.\")\n",
    "        continue\n",
    "\n",
    "    # 주문: 붕어빵 개수 선택 및 예외처리\n",
    "    try:\n",
    "        order_bun_count = int(input(f'{order_bun_type}의 개수를 입력하세요.'))\n",
    "        if order_bun_count < 0:\n",
    "            print(\"1개 이상의 붕어빵을 주문해주세요.\")\n",
    "    except ValueError:\n",
    "        print(\"붕어빵 개수를 다시 입력하세요.\")\n",
    "        continue\n",
    "\n",
    "    # 판매한 붕어빵 총 종류 및 개수 \n",
    "    sold_bun_count[order_bun_type] += order_bun_count\n",
    "    print(f'{order_bun_type} {order_bun_count}개가 판매되었습니다.')\n",
    "    print(\"누적금액 : \")\n",
    "\n",
    "    # 판매한 붕어빵 총 매출\n",
    "    total_sales = 0\n",
    "    for bun, count in sold_bun_count.items():\n",
    "        total_sales += fish_bun_price[bun] * count\n",
    "        # 개별 판매 금액\n",
    "        bun_price = fish_bun_price[bun] * count\n",
    "        print(f'{bun} {count}개 {bun_price:,}원')\n",
    "    print(f'총 매출 : {total_sales:,}원')\n",
    "    \n",
    "    \n"
   ]
  }
 ],
 "metadata": {
  "colab": {
   "authorship_tag": "ABX9TyMLQjyUmELFyKkx1AyovOFZ",
   "provenance": []
  },
  "kernelspec": {
   "display_name": "Python 3",
   "name": "python3"
  },
  "language_info": {
   "codemirror_mode": {
    "name": "ipython",
    "version": 3
   },
   "file_extension": ".py",
   "mimetype": "text/x-python",
   "name": "python",
   "nbconvert_exporter": "python",
   "pygments_lexer": "ipython3",
   "version": "3.9.6"
  }
 },
 "nbformat": 4,
 "nbformat_minor": 0
}
