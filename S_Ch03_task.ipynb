{
 "cells": [
  {
   "cell_type": "markdown",
   "metadata": {},
   "source": [
    "<span style=\"font-size:100%\">\n",
    "\n",
    "수업은 모두 열심히 들으셨나요?\n",
    "\n",
    "간혹 강의에서 언급되지 않은 내용이 문제로 나올 수 있습니다.<br>\n",
    "그럴땐 강의 내용 외 문제는 구글링을 통해 해결해주세요<br></span>\n",
    "<span style=\"font-size:80%\">\n",
    "(구글링 또한 개발자가 갖쳐야할 역량 중에 하나랍니다 😊)\n",
    "</span>\n",
    "\n",
    "---"
   ]
  },
  {
   "cell_type": "markdown",
   "metadata": {},
   "source": [
    "<span style=\"font-size:80%\">[문제1]<br><br></span>\n",
    "```주로 작성 중인 코드의 끝을 알리는 기호로 사용되며 파이썬에서 한 줄에 작성된 서로 다른 코드를 구분 지을 때 사용할 수 있는 기호를 골라주세요```\n",
    "\n",
    "1. ' , ' (쉼표)\n",
    "2. ' + ' (더하기 기호)\n",
    "3. ' ; ' (세미콜론)\n",
    "4. ' / ' (슬래시)"
   ]
  },
  {
   "cell_type": "markdown",
   "metadata": {},
   "source": [
    "<span style=\"color:red\">답변</span> :"
   ]
  },
  {
   "cell_type": "markdown",
   "metadata": {},
   "source": [
    "3. ' ; ' (세미콜론)"
   ]
  },
  {
   "cell_type": "markdown",
   "metadata": {},
   "source": [
    "----"
   ]
  },
  {
   "cell_type": "markdown",
   "metadata": {},
   "source": [
    "<span style=\"font-size:80%\">[문제2]<br><br></span>\n",
    "```Python의 PEP 8은 무엇인지 설명하고 PEP 8의 핵심적인 규칙을 1개 이상을 설명해주세요```"
   ]
  },
  {
   "cell_type": "markdown",
   "metadata": {},
   "source": [
    "<span style=\"color:red\">답변</span>"
   ]
  },
  {
   "cell_type": "markdown",
   "metadata": {},
   "source": [
    "PEP 8은 Python의 코딩 스타일 가이드로, Python 코드의 일관성 있는 스타일을 유지하고 가독성을 높이기 위해 작성된 문서이다다. PEP 8은 Python Enhancement Proposal 8의 약자로, Python 개발자들 사이에서 권장되는 코딩 규칙과 표준을 정의하고 있다. PEP 8의 목표는 코드의 가독성을 높이고, 여러 개발자가 협업할 때 일관된 스타일을 유지하여 코드 품질을 향상시키는 것이다.\n",
    "\n",
    "PEP 8의 핵심적인 규칙\n",
    "\n",
    "1. 들여쓰기 \n",
    "Python에서는 들여쓰기가 매우 중요하다다. 코드 블록을 구분할 때 탭 대신 공백 4개를 사용하는 것이 권장된다다. 이는 PEP 8에서 제시하는 기본 규칙으로, 들여쓰기를 일관되게 사용함으로써 코드의 가독성을 높이고, 예기치 않은 오류를 방지할 수 있다.\n",
    "\n",
    "2. 행 길이(Line Length)\n",
    "한 줄의 코드 길이는 79자 이하로 제한하는 것이 좋다. 이렇게 하면 코드가 여러 줄에 걸쳐 보기 좋게 분할되고, 긴 코드가 한 화면에서 잘리지 않아 가독성이 좋다.\n",
    "\n",
    "3. 빈 줄(Blank Lines)\n",
    "함수나 클래스 정의 사이에 두 개의 빈 줄을 넣는 것이 좋다. 함수 내부에서는 한 줄을 띄우는 것으로 구분할 수 있다다.\n",
    "\n",
    "4. 공백(Whitespace)\n",
    "이항 연산자 주변에는 공백을 사용하여 코드가 읽기 쉽게 만든다. 예를 들어, a + b처럼 연산자 양쪽에 공백을 추가한다.\n",
    "\n",
    "5. 함수 이름 및 변수 이름(Naming Conventions)\n",
    "함수 및 변수 이름은 소문자와 밑줄(_)을 사용하여 작성한다.\n",
    "예: my_function, my_variable.\n",
    "클래스 이름은 각 단어의 첫 글자를 대문자로 작성하며, 단어 사이에 밑줄을 사용하지 않는다. 예: MyClass.\n"
   ]
  },
  {
   "cell_type": "markdown",
   "metadata": {},
   "source": [
    "----"
   ]
  },
  {
   "cell_type": "markdown",
   "metadata": {},
   "source": [
    "<span style=\"font-size:80%\">[문제3]<br><br></span>\n",
    "```Python에서 \"#\"이 의마하는 것은 무엇인지 설명해주세요```"
   ]
  },
  {
   "cell_type": "markdown",
   "metadata": {},
   "source": [
    "<span style=\"color:red\">답변</span>"
   ]
  },
  {
   "cell_type": "markdown",
   "metadata": {},
   "source": [
    "#은 주석으로 코드에 설명을 추가하는 데 사용됨.추가로 \"\"\" 삼중 따옴표 \"\"\"는 주로 함수나 클래스의 설명을 작성하는 데 사용된다. python 인터프리터는 주석을 무시하고 실행하지 않는다. "
   ]
  },
  {
   "cell_type": "markdown",
   "metadata": {},
   "source": [
    "----"
   ]
  },
  {
   "cell_type": "markdown",
   "metadata": {},
   "source": [
    "<span style=\"font-size:80%\">[문제4]<br><br></span>\n",
    "```Python의 들여쓰기 장점과 기능에 대해 설명해주세요```"
   ]
  },
  {
   "cell_type": "markdown",
   "metadata": {},
   "source": [
    "<span style=\"color:red\">답변</span>"
   ]
  },
  {
   "cell_type": "markdown",
   "metadata": {},
   "source": [
    "들여쓰기는 Python의 문법에서 중요한 요소로, 코드 블록을 명확하게 구분한다. 또한, 가독성을 높이고, 구조적 오류나 구문 오류를 방지하는 데 중요한 역할을 하며, 일관된 들여쓰기를 사용하면 협업과 유지보수가 용이해진다."
   ]
  },
  {
   "cell_type": "markdown",
   "metadata": {},
   "source": [
    "----"
   ]
  },
  {
   "cell_type": "markdown",
   "metadata": {},
   "source": [
    "<span style=\"font-size:80%\">[문제5]<br><br></span>\n",
    "```print( )문의 기능 및 특징에 대해 설명해주세요```"
   ]
  },
  {
   "cell_type": "markdown",
   "metadata": {},
   "source": [
    "<span style=\"color:red\">답변</span>"
   ]
  },
  {
   "cell_type": "markdown",
   "metadata": {},
   "source": [
    "1. 기능\n",
    "print() 함수의 주요 기능은 콘솔에 텍스트나 변수 값을 출력한다다. 텍스트뿐만 아니라 숫자, 리스트, 튜플, 객체 등 다양한 데이터 타입을 출력한다. Python은 입력된 데이터가 문자열이 아니더라도 자동으로 해당 타입을 문자열로 변환하여 출력한다.\n",
    "\n",
    "2. 특징\n",
    "- 기본적으로 print() 함수는 출력한 후 자동으로 줄 바꿈을 삽입한다.\n",
    "- end 매개변수: print() 함수는 end라는 매개변수를 사용하여 출력 후 줄 바꿈 대신 다른 문자를 삽입할 수 있다. 즉, 한 줄로 출력됨.\n",
    "# print(\"Hello\", end=\" \")\n",
    "# print(\"World!\")\n",
    "- sep 매개변수: print()는 여러 개의 값을 출력할 때 기본적으로 각 항목 사이에 공백을 삽입합니다. 그러나 sep 매개변수를 사용하면 이 구분자를 변경할 수 있다.\n",
    "# print(\"apple\", \"banana\", \"cherry\", sep=\", \") \n",
    "- 형식화된 출력: print() 함수는 Python 3.6 이상에서 사용할 수 있는 f-string을 통해 더 직관적인 형식화된 출력을 지원한다.\n",
    "# print{f'{name}'}\n",
    "- 디버깅 및 로그 출력: print() 함수는 코드의 실행 흐름을 추적하거나 변수를 출력하여 디버깅을 할 때 유용하다. 복잡한 프로그램에서 변수의 상태나 오류가 발생하는 위치를 추적할 때 자주 사용된다.\n",
    "\n"
   ]
  }
 ],
 "metadata": {
  "kernelspec": {
   "display_name": "base",
   "language": "python",
   "name": "python3"
  },
  "language_info": {
   "codemirror_mode": {
    "name": "ipython",
    "version": 3
   },
   "file_extension": ".py",
   "mimetype": "text/x-python",
   "name": "python",
   "nbconvert_exporter": "python",
   "pygments_lexer": "ipython3",
   "version": "3.12.4"
  }
 },
 "nbformat": 4,
 "nbformat_minor": 2
}
