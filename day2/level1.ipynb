{
 "cells": [
  {
   "cell_type": "markdown",
   "metadata": {
    "id": "WXEwMsfUct7U"
   },
   "source": [
    "안녕하세요.<br><br>\n",
    "수강생 여러분~! \n",
    "\n",
    "\"Challenge : Chapter05 ~ 08 문제풀기\"는 잘 풀어보셨나요?\n",
    "\n",
    "\n",
    "너~~무 어려웠어요! 하는 분들을 위해 만들어봤습니다!\n",
    "\n",
    "문제 도장깨기 !!!!!\n",
    "\n",
    "차근차근 풀어나가면 파이썬 정복 가능입니다!\n",
    "\n",
    "화이팅 !\n",
    "\n",
    "\n",
    "Chapter05~08의 수업 내용을 바탕으로 아래 문제를 풀어주시면 됩니다.\n",
    "\n",
    "<br>\n",
    "\n",
    "[**답변 입력 방법**]\n",
    "\n",
    "문제 아래에 있는 코드 입력창에 정답코드를 작성하신 후  __▷ 버튼을 클릭해 코드를 실행__ 해보세요<br>\n",
    "<br>"
   ]
  },
  {
   "cell_type": "markdown",
   "metadata": {
    "id": "qoyC9wF-3hvs"
   },
   "source": [
    "-----"
   ]
  },
  {
   "cell_type": "markdown",
   "metadata": {},
   "source": [
    "<br>\n",
    "\n",
    "__[문제1]__\n",
    "\n",
    "\n",
    "a와 b라는 변수를 각각 10과 20으로 초기화하고, 두 변수를 더한 값을 출력해보세요.\n",
    "\n",
    "\n",
    "<br>"
   ]
  },
  {
   "cell_type": "code",
   "execution_count": 2,
   "metadata": {},
   "outputs": [
    {
     "name": "stdout",
     "output_type": "stream",
     "text": [
      "30\n"
     ]
    }
   ],
   "source": [
    "a = 10\n",
    "b = 20\n",
    "\n",
    "result = a + b\n",
    "\n",
    "print(result)"
   ]
  },
  {
   "cell_type": "markdown",
   "metadata": {},
   "source": [
    "<br>\n",
    "\n",
    "__[문제2]__\n",
    "\n",
    "\n",
    "변수 num1에 15, num2에 4를 할당하고, 두 변수를 더한 값, 뺀 값, 곱한 값, 나눈 값을 각각 출력하세요.\n",
    "\n",
    "\n",
    "\n",
    "<br>"
   ]
  },
  {
   "cell_type": "code",
   "execution_count": 10,
   "metadata": {},
   "outputs": [
    {
     "name": "stdout",
     "output_type": "stream",
     "text": [
      "더한 값 : 19, 뺀 값 : 11, 곱한 값 : 60, 나눈 값 : 3.75\n"
     ]
    }
   ],
   "source": [
    "num1 = 15\n",
    "num2 = 4\n",
    "\n",
    "add = num1 + num2\n",
    "sub = num1 - num2\n",
    "mul = num1 * num2\n",
    "div = num1 / num2\n",
    "\n",
    "print(f'더한 값 : {add}', f'뺀 값 : {sub}', f'곱한 값 : {mul}', f'나눈 값 : {div}', sep=\", \")"
   ]
  },
  {
   "cell_type": "markdown",
   "metadata": {
    "id": "rAD_O3Gmc_43"
   },
   "source": [
    "<br>\n",
    "\n",
    "__[문제3]__\n",
    "\n",
    "변수 x에 5를 할당하고, 변수 y에 3을 할당한 후, x가 y보다 크거나 같은지 비교해서 bool타입으로 출력해주세요."
   ]
  },
  {
   "cell_type": "code",
   "execution_count": null,
   "metadata": {
    "id": "74wtVQFFc_h1"
   },
   "outputs": [
    {
     "name": "stdout",
     "output_type": "stream",
     "text": [
      "True\n"
     ]
    }
   ],
   "source": [
    "x = 5\n",
    "y = 3\n",
    "\n",
    "result = x >= y # 크거나 같으면 true, 그렇지 않으면 false\n",
    "\n",
    "print(f'{result}')"
   ]
  },
  {
   "cell_type": "markdown",
   "metadata": {
    "id": "3uK_auXYdgk2"
   },
   "source": [
    "<br>__[문제4]__\n",
    "\n",
    "자료형 (int, float, str, bool) 변수를 만들어보고, print()해서 결과를 확인하세요!\n"
   ]
  },
  {
   "cell_type": "code",
   "execution_count": 13,
   "metadata": {
    "id": "9kvBxa6PdhgA"
   },
   "outputs": [
    {
     "name": "stdout",
     "output_type": "stream",
     "text": [
      "int : 5, float : 3.14, str : Hello world, bool : True\n"
     ]
    }
   ],
   "source": [
    "int = 5\n",
    "float = 3.14\n",
    "str = \"Hello world\"\n",
    "bool = True\n",
    "\n",
    "print(f'int : {int}', f'float : {float}', f'str : {str}', f'bool : {bool}', sep=\", \")"
   ]
  },
  {
   "cell_type": "markdown",
   "metadata": {
    "id": "2Jte2VLKdiPm"
   },
   "source": [
    "__[문제5]__\n",
    "\n",
    "str = \"야호야호야호호야호야야오햐오햐오햐오\"\n",
    "\n",
    "str을 3가지 이상의 다른 문자열 슬라이싱을 이용하여 확인해보세요!\n",
    "\n",
    "출력 예)\n",
    "\n",
    "처음 5글자: 야호야호야\n"
   ]
  },
  {
   "cell_type": "code",
   "execution_count": null,
   "metadata": {},
   "outputs": [
    {
     "name": "stdout",
     "output_type": "stream",
     "text": [
      "야호야호야\n",
      "야호야호야호호야호야야오햐오햐오햐\n",
      "오햐오햐\n"
     ]
    }
   ],
   "source": [
    "str = \"야호야호야호호야호야야오햐오햐오햐오\"\n",
    "\n",
    "str1 = str[0:5] # 앞에서 다섯글자 가져오기\n",
    "str2 = str[:-1] # 마지막 문자 제외하고 가져오기\n",
    "str3 = str[-1:-5:-1] # 뒤에서 1번째부터 뒤에서 5번째까지 역순으로 가져오기\n",
    "\n",
    "print(str1)\n",
    "print(str2)\n",
    "print(str3)\n",
    "\n"
   ]
  }
 ],
 "metadata": {
  "colab": {
   "authorship_tag": "ABX9TyM3gebHvdgzn1rFsPHWTyo9",
   "provenance": []
  },
  "kernelspec": {
   "display_name": "Python 3",
   "name": "python3"
  },
  "language_info": {
   "codemirror_mode": {
    "name": "ipython",
    "version": 3
   },
   "file_extension": ".py",
   "mimetype": "text/x-python",
   "name": "python",
   "nbconvert_exporter": "python",
   "pygments_lexer": "ipython3",
   "version": "3.9.6"
  }
 },
 "nbformat": 4,
 "nbformat_minor": 0
}
