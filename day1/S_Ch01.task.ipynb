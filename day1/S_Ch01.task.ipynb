{
 "cells": [
  {
   "cell_type": "markdown",
   "metadata": {},
   "source": [
    "<span style=\"font-size:100%\">\n",
    "\n",
    "수업은 모두 열심히 들으셨나요?\n",
    "\n",
    "간혹 강의에서 언급되지 않은 내용이 문제로 나올 수 있습니다.<br>\n",
    "그럴땐 강의 내용 외 문제는 구글링을 통해 해결해주세요<br></span>\n",
    "<span style=\"font-size:80%\">\n",
    "(구글링 또한 개발자가 갖쳐야할 역량 중에 하나랍니다 😊)\n",
    "</span>\n",
    "\n",
    "---"
   ]
  },
  {
   "cell_type": "markdown",
   "metadata": {},
   "source": [
    "<span style=\"font-size:80%\">[문제1]<br><br></span>\n",
    "```인터프리트 방식에 대해 설명하고 2개 이상의 장점을 설명해주세요```"
   ]
  },
  {
   "cell_type": "markdown",
   "metadata": {},
   "source": [
    "<span style=\"color:red\">답변</span>"
   ]
  },
  {
   "cell_type": "markdown",
   "metadata": {},
   "source": [
    "인터프리터 방식은 고급 언어로 작성된 프로그램을 한 줄씩 읽어들여서 실행하는 방식이다. 인터프리터는 소스 코드를 직접 해석하고 실행하므로 컴파일 과정이 필요하지 않아 개발속도가 빠르다. 또한, 특정 기계어로 변환되지 않고 실행되므로, 인터프리터만 설치되어 있으면 다양한 운영체제에서 동일한 소스 코드를 실행할 수 있다. "
   ]
  },
  {
   "cell_type": "markdown",
   "metadata": {},
   "source": [
    "---"
   ]
  },
  {
   "cell_type": "markdown",
   "metadata": {},
   "source": [
    "<span style=\"font-size:80%\">[문제2]<br><br></span>\n",
    "```동적 타입 방식의 장점과 단점을 간략히 설명해주세요```"
   ]
  },
  {
   "cell_type": "markdown",
   "metadata": {},
   "source": [
    "<span style=\"color:red\">답변</span>"
   ]
  },
  {
   "cell_type": "markdown",
   "metadata": {},
   "source": [
    "동적 타입 방식은 프로그램 실행 시점에 변수의 타입을 결정하는 방식으로, 유연성과 개발 속도를 높일 수 있는 장점이 있다. 단점으로 데이터 타입을 파악하는 것을 컴퓨터에 맡기기 때문에 실행 속도가 느려질 수 있다."
   ]
  },
  {
   "cell_type": "markdown",
   "metadata": {},
   "source": [
    "---"
   ]
  },
  {
   "cell_type": "markdown",
   "metadata": {},
   "source": [
    "<span style=\"font-size:80%\">[문제3]<br><br></span>\n",
    "```Python으로 정적타입 방식의 코드를 작성할 수 있는 방법을 구글링을 통해 검색 후 설명해주세요```"
   ]
  },
  {
   "cell_type": "markdown",
   "metadata": {},
   "source": [
    "<span style=\"color:red\">답변</span>"
   ]
  },
  {
   "cell_type": "markdown",
   "metadata": {},
   "source": [
    "0. 파이썬은 동적 타이핑 언어의 유연성을 제공하지만, 정적 타이핑을 통해 코드의 안정성과 유지보수성을 향상시킬 수 있다. 타입 힌트와 정적 검사도구 등을 활용할 수 있다. \n",
    "\n",
    "1. Type Hint 사용 한다.\n",
    "파이썬 3.5 이상에서는 PEP 484를 통해 타입 힌트를 도입하였다. 이를 활용하여 함수의 매개변수와 반환값의 타입을 명시할 수 있다.\n",
    "\n",
    "# def add(a: int, b:int) -> int:\n",
    "#    return a + b\n",
    "\n",
    "2. 정적 타입 검사 도구를 활용한다.\n",
    "타입 힌트만으로는 실행 시 타입 검사가 이루어지지 않으므로, Mypy, Pyright, Pyre와 같은 정적 타입 검사 도구를 사용하여 코드의 타입 일관성을 확인 할 수 있다. \n",
    "# pip install mypy\n",
    "# mypy 파일명.py\n",
    "\n",
    "3. 타입 검사 강화 도구 사용한다.\n",
    "Pylin, Flake8과 같은 코드 품질 검사 도구를 활용하여 타입 관련 규칙을 강화하고, 일관된 코딩 스타일을 유지한다.\n",
    "\n",
    "4. 타입 주석을 통한 문서화를 한다.\n",
    "타입 힌트를 활용하여 코드의 의도를 명확히 표현하고, 협업 시 코드 이해를 높일 수 있다."
   ]
  },
  {
   "cell_type": "markdown",
   "metadata": {},
   "source": [
    "---"
   ]
  },
  {
   "cell_type": "markdown",
   "metadata": {},
   "source": [
    "<span style=\"font-size:80%\">[문제4]<br><br></span>\n",
    "```프로세스와 스레드의 차이점을 설명해주세요```"
   ]
  },
  {
   "cell_type": "markdown",
   "metadata": {},
   "source": [
    "<span style=\"color:red\">답변</span>"
   ]
  },
  {
   "cell_type": "markdown",
   "metadata": {},
   "source": [
    "프로세스는 독립적인 실행 단위로, 자체 메모리 공간과 자원을 가지며 다른 프로세스와 독립적으로 실행된다.\n",
    "스레드는 프로세스 내에서 실행되는 경량화된 실행 단위로, 자원을 공유하고, 여러 작업을 동시에 처리하는 데 사용된다."
   ]
  },
  {
   "cell_type": "markdown",
   "metadata": {},
   "source": [
    "---"
   ]
  },
  {
   "cell_type": "markdown",
   "metadata": {},
   "source": [
    "<span style=\"font-size:80%\">[문제5]<br><br></span>\n",
    "```Python 2버전대와 3버전대의 차이를 설설명해주세요```"
   ]
  },
  {
   "cell_type": "markdown",
   "metadata": {},
   "source": [
    "<span style=\"color:red\">답변</span>"
   ]
  },
  {
   "cell_type": "markdown",
   "metadata": {},
   "source": [
    "1. print 문법\n",
    "Python 2에서는 print가 문으로 사용된다.\n",
    "Python 3에서는 print가 함수로 변경되어 괄호가 필요하다.\n",
    "\n",
    "2. 정수 나누기\n",
    "Python 2에서 두 정수를 나누면 정수 결과가 나온다. (소수점은 버려짐)\n",
    "Python 3에서 두 정수를 나누면 실수 결과가 나온다.\n",
    "\n",
    "3. xrange()와 range()\n",
    "Python 2에서는 xrange()가 메모리를 절약하는 반복자(iterator)로 사용되었으며, range()는 리스트를 반환함.\n",
    "Python 3에서는 xrange()가 제거되고, range()가 **반복자(iterator)**로 변경되었다. 따라서 Python 3에서 range()는 메모리 효율적이다.\n",
    "\n",
    "4. unicode 지원\n",
    "Python 2에서는 문자열이 기본적으로 ASCII 인코딩을 사용하며, Unicode 문자열은 u\"...\" 형태로 선언한다.\n",
    "Python 3에서는 모든 문자열이 기본적으로 Unicode로 처리된다.\n",
    "\n",
    "5. input() 함수의 동작\n",
    "Python 2은 input()이 사용자가 입력한 값을 파이썬 코드로 실행한한다. 문자열을 입력받고자 할 때 raw_input()을 사용한다.\n",
    "Python 3에서는 input()이 사용자가 입력한 값을 문자열로 받는다. raw_input()은 제거되었다.\n",
    "\n",
    "\n",
    "6. 예외 처리 문법\n",
    "Python 2는 except 구문에서 예외 객체를 as 키워드 없이 처리할 수 있다. Python 3은 as 키워드를 사용하여 예외 객체를 처리한다.\n",
    "\n",
    "7. 라이브러리 및 지원\n",
    "python 2는 2020년 1월 1일 이후로 공식지원이 종료됨, python 3은 계속해서 활발히 개발되고 있으며, 대부분 최신 라이브러리와 프레임워크를 지원한다."
   ]
  },
  {
   "cell_type": "markdown",
   "metadata": {},
   "source": [
    "---"
   ]
  },
  {
   "cell_type": "markdown",
   "metadata": {},
   "source": [
    "<span style=\"font-size:80%\">[문제6]<br><br></span>\n",
    "```Python에서 메모리 관리는 어떻게 이루어지는지 설명해주세요```"
   ]
  },
  {
   "cell_type": "markdown",
   "metadata": {},
   "source": [
    "<span style=\"color:red\">답변</span>"
   ]
  },
  {
   "cell_type": "markdown",
   "metadata": {},
   "source": [
    "1. 참조 카운팅 (Reference Counting)\n",
    "참조 카운팅은 Python의 기본적인 메모리 관리 방식으로, 각 객체에 대한 참조 횟수를 추적한다.\n",
    "객체가 생성될 때, 참조 카운트가 1로 시작하고, 객체를 참조하는 다른 변수나 객체가 있으면 카운트가 증가한다.\n",
    "객체의 참조 카운트가 0이 되면 더 이상 그 객체를 참조하는 것이 없으므로, 자동으로 메모리에서 해제된다.\n",
    "\n",
    "2. 가비지 컬렉션 (Garbage Collection)\n",
    "Python은 순환 참조를 처리하기 위해 가비지 컬렉션을 사용한다.\n",
    "순환 참조란 두 객체가 서로를 참조하고 있지만, 외부에서 참조하지 않는 경우를 의미한다. 이 경우 참조 카운팅만으로는 메모리 해제가 불가능한다.\n",
    "가비지 컬렉터는 주기적으로 이러한 순환 참조를 탐지하고, 이를 메모리에서 해제한다.\n",
    "\n",
    "3. 메모리 관리 시스템 (Memory Management System)\n",
    "Python은 메모리 풀(Memory Pool) 시스템을 통해 메모리를 관리한다.\n",
    "pymalloc이라는 메모리 할당 시스템을 사용하여, 작은 객체들은 효율적으로 관리하고, 큰 객체는 시스템의 기본 메모리 관리 방식에 의해 할당된다.\n",
    "Python은 메모리 할당과 해제를 자동으로 처리하지만, 개발자는 필요에 따라 메모리 관리를 최적화할 수 있다."
   ]
  }
 ],
 "metadata": {
  "language_info": {
   "name": "python"
  }
 },
 "nbformat": 4,
 "nbformat_minor": 2
}
