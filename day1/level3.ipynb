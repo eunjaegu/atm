{
 "cells": [
  {
   "cell_type": "markdown",
   "metadata": {
    "id": "WXEwMsfUct7U"
   },
   "source": [
    "안녕하세요.<br><br>\n",
    "수강생 여러분~! \n",
    "\n",
    "\"Challenge : 사칙연산을 이용해 문제 풀기\"는 잘 풀어보셨나요?\n",
    "\n",
    "\n",
    "너~~무 어려웠어요! 하는 분들을 위해 만들어봤습니다!\n",
    "\n",
    "문제 도장깨기 !!!!!\n",
    "\n",
    "수학적 사고도 한번 길러보세용 :)\n",
    "\n",
    "차근차근 풀어나가면 파이썬 정복 가능입니다!\n",
    "\n",
    "화이팅 !\n",
    "\n",
    "\n",
    "Chapter04의 수업 내용을 바탕으로 아래 문제를 풀어주시면 됩니다.\n",
    "\n",
    "<br>\n",
    "\n",
    "[**답변 입력 방법**]\n",
    "\n",
    "문제 아래에 있는 코드 입력창에 정답코드를 작성하신 후  __▷ 버튼을 클릭해 코드를 실행__ 해보세요<br>\n",
    "<br>"
   ]
  },
  {
   "cell_type": "markdown",
   "metadata": {
    "id": "qoyC9wF-3hvs"
   },
   "source": [
    "-----"
   ]
  },
  {
   "cell_type": "markdown",
   "metadata": {},
   "source": [
    "<br>\n",
    "\n",
    "__[문제1]__\n",
    "\n",
    "어떤 공원의 크기는 가로 50m, 세로 30m입니다. \n",
    "\n",
    "공원 내부에 5개의 조형물이 있으며, 각 조형물의 면적은 10m²입니다. \n",
    "\n",
    "이 공원의 실제 사용 면적을 구하세요. (cm로 구해주세요)\n",
    "\n",
    "\n"
   ]
  },
  {
   "cell_type": "code",
   "execution_count": 2,
   "metadata": {},
   "outputs": [
    {
     "name": "stdout",
     "output_type": "stream",
     "text": [
      "공원이 실제로 사용된 면적은 14500000cm입니다.\n"
     ]
    }
   ],
   "source": [
    "# 공원 크기 가로 m->cm\n",
    "park_area_len = 50 * 100\n",
    "\n",
    "# 공원 크기 세로 m->cm\n",
    "park_area_wid = 30 * 100\n",
    "\n",
    "# 공원의 크기\n",
    "park_area = park_area_len * park_area_wid\n",
    "\n",
    "# 조형물 개수\n",
    "art = 5\n",
    "\n",
    "# 조형물 면적 m²->cm²\n",
    "art_per_area = 10 * 10000\n",
    "\n",
    "# 조형물 개수에 따른 총 면적\n",
    "art_area = art * art_per_area\n",
    "\n",
    "# 사용된 공원 면적\n",
    "used_park_area = park_area - art_area\n",
    "\n",
    "print(f'공원이 실제로 사용된 면적은 {used_park_area}cm입니다.')"
   ]
  },
  {
   "cell_type": "markdown",
   "metadata": {},
   "source": [
    "<br>\n",
    "\n",
    "__[문제2]__\n",
    "\n",
    "2권씩 묶여서 팔리는 책의 가격은 12,000원입니다. \n",
    "\n",
    "나는 3묶음을 살 겁니다.\n",
    "\n",
    "근데 최종 가격을 보니 10%의 세금이 붙어있습니다.\n",
    "\n",
    "최종 가격을 구해주세요."
   ]
  },
  {
   "cell_type": "code",
   "execution_count": 15,
   "metadata": {},
   "outputs": [
    {
     "name": "stdout",
     "output_type": "stream",
     "text": [
      "최종 가격은 39,600원입니다.\n"
     ]
    }
   ],
   "source": [
    "# 내가 살 책의 묶음\n",
    "book_set = 3\n",
    "\n",
    "# 1세트의 책의 가격\n",
    "book_set_price = 12000\n",
    "\n",
    "# 총 구매 가격\n",
    "all_price = book_set_price * book_set\n",
    "\n",
    "# 세금\n",
    "tax = all_price // 10\n",
    "\n",
    "# 최종 가격\n",
    "result =  all_price + tax\n",
    "\n",
    "print(f'최종 가격은 {result:,}원입니다.')\n"
   ]
  },
  {
   "cell_type": "markdown",
   "metadata": {},
   "source": [
    "<br>\n",
    "\n",
    "__[문제3]__\n",
    "\n",
    "가로 20m, 세로 15m인 직사각형 정원의 면적을 구하세요.\n"
   ]
  },
  {
   "cell_type": "code",
   "execution_count": 6,
   "metadata": {
    "id": "74wtVQFFc_h1"
   },
   "outputs": [
    {
     "name": "stdout",
     "output_type": "stream",
     "text": [
      "직사각형 정원의 면적은 300m²입니다.\n"
     ]
    }
   ],
   "source": [
    "# 직사각형 가로 길이\n",
    "width = 20\n",
    "\n",
    "# 직사각형 세로 길이\n",
    "height = 15\n",
    "\n",
    "# 직사각형 정원의 면적\n",
    "result = width * height\n",
    "\n",
    "print(f'직사각형 정원의 면적은 {result}m²입니다.')\n"
   ]
  },
  {
   "cell_type": "markdown",
   "metadata": {},
   "source": [
    "<br>\n",
    "\n",
    "__[문제3-1]__\n",
    "\n",
    "문제 1에서 구한 정원의 면적에서, 정원의 5%를 차지하는 풀밭 면적을 구하세요.\n",
    "\n",
    "\n"
   ]
  },
  {
   "cell_type": "code",
   "execution_count": null,
   "metadata": {
    "id": "9kvBxa6PdhgA"
   },
   "outputs": [
    {
     "name": "stdout",
     "output_type": "stream",
     "text": [
      "풀밭의 면적은 15.0m²입니다\n"
     ]
    }
   ],
   "source": [
    "# 정원의 면적\n",
    "garden_area = 300\n",
    "\n",
    "# 정원의 5%를 차지하는 풀밭 면적\n",
    "result = garden_area * 0.05\n",
    "\n",
    "print(f'풀밭의 면적은 {result}m²입니다')"
   ]
  },
  {
   "cell_type": "markdown",
   "metadata": {
    "id": "2Jte2VLKdiPm"
   },
   "source": [
    "__[문제3-2]__\n",
    "\n",
    "풀밭 면적을 제외한 나머지 정원의 면적에 나무를 심고 싶습니다.\n",
    "\n",
    "나무 1그루가 차지하는 면적이 2m²일 때, 심을 수 있는 나무의 최대 개수를 구하세요."
   ]
  },
  {
   "cell_type": "code",
   "execution_count": null,
   "metadata": {},
   "outputs": [
    {
     "name": "stdout",
     "output_type": "stream",
     "text": [
      "나머지 정원의 면적에 심을 수 있는 나무 최대 개수는 142개 입니다.\n"
     ]
    }
   ],
   "source": [
    "# 전체 정원 면적\n",
    "garden_area = 300\n",
    "\n",
    "# 풀밭 면적\n",
    "grass_area = 15\n",
    "\n",
    "# 나무 1그루 면적\n",
    "tree_one = 2\n",
    "\n",
    "# 풀밭 면적을 제외한 나머지 정원의 면적 (전체정원 - 풀밭면적)\n",
    "garden_rest = garden_area - grass_area\n",
    "\n",
    "# 나머지 정원의 면적에 심을 수 있는 나무 최대 개수\n",
    "tree_max = garden_rest // tree_one\n",
    "\n",
    "print(f'나머지 정원의 면적에 심을 수 있는 나무 최대 개수는 {tree_max}개 입니다.')"
   ]
  }
 ],
 "metadata": {
  "colab": {
   "authorship_tag": "ABX9TyM3gebHvdgzn1rFsPHWTyo9",
   "provenance": []
  },
  "kernelspec": {
   "display_name": "base",
   "language": "python",
   "name": "python3"
  },
  "language_info": {
   "codemirror_mode": {
    "name": "ipython",
    "version": 3
   },
   "file_extension": ".py",
   "mimetype": "text/x-python",
   "name": "python",
   "nbconvert_exporter": "python",
   "pygments_lexer": "ipython3",
   "version": "3.12.4"
  }
 },
 "nbformat": 4,
 "nbformat_minor": 0
}
