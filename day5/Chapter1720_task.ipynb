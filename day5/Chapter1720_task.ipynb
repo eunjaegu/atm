{
 "cells": [
  {
   "cell_type": "markdown",
   "metadata": {
    "id": "aLkxKxnFLowa"
   },
   "source": [
    "안녕하세요. 수강생 여러분~! Chapter17 ~ 20 수업은 잘 들으셨나요?\n",
    "\n",
    "Chapter17 ~ 20의 수업 내용을 바탕으로 아래 문제를 풀어주시면 됩니다.\n",
    "\n",
    "\n",
    "<br>\n",
    "\n",
    "\n",
    "[**답변 입력 방법**]\n",
    "\n",
    "문제 아래에 있는 코드 입력창에 정답코드를 작성하신 후  __▷ 버튼을 클릭해 코드를 실행__ 해보세요<br>"
   ]
  },
  {
   "cell_type": "markdown",
   "metadata": {
    "id": "pYJ1dSggLwcG"
   },
   "source": [
    "__[문제1]__\n",
    "\n",
    "print_even 리스트 내에 있는 값 중 짝수만 화면에 출력되도록 print_score 함수를 생성 후 결과값을 출력해주세요\n",
    "\n",
    "print_even ([1, 3, 2, 10, 12, 11, 15])"
   ]
  },
  {
   "cell_type": "code",
   "execution_count": 11,
   "metadata": {},
   "outputs": [
    {
     "name": "stdout",
     "output_type": "stream",
     "text": [
      "2\n",
      "10\n",
      "12\n"
     ]
    }
   ],
   "source": [
    "print_even =  ([1, 3, 2, 10, 12, 11, 15])\n",
    "\n",
    "def print_score(numbers):\n",
    "    for num in numbers:\n",
    "        if num % 2 == 0:\n",
    "            print(num)\n",
    "\n",
    "print_score(print_even)"
   ]
  },
  {
   "cell_type": "code",
   "execution_count": null,
   "metadata": {
    "id": "PTqEeebbLmCA"
   },
   "outputs": [
    {
     "data": {
      "text/plain": [
       "[2, 10, 12]"
      ]
     },
     "execution_count": 17,
     "metadata": {},
     "output_type": "execute_result"
    }
   ],
   "source": [
    "# 전역 변수(함수 외부에 정의)\n",
    "print_even =  ([1, 3, 2, 10, 12, 11, 15])\n",
    "\n",
    "# numbers 매개변수 받는 경우\n",
    "# 즉, 매개ㄴ수를 사용하면 유연성, 재사용성, 테스트용이성이 더 좋아짐.\n",
    "def print_score(numbers):\n",
    "    even_num = [num for num in numbers if num % 2 == 0]\n",
    "    return even_num\n",
    "\n",
    "print_score(print_even)\n",
    "    "
   ]
  },
  {
   "cell_type": "markdown",
   "metadata": {},
   "source": [
    "---"
   ]
  },
  {
   "cell_type": "code",
   "execution_count": null,
   "metadata": {},
   "outputs": [
    {
     "data": {
      "text/plain": [
       "[2, 10, 12]"
      ]
     },
     "execution_count": 15,
     "metadata": {},
     "output_type": "execute_result"
    }
   ],
   "source": [
    "# 전역변수 (함수 외부에 정의)\n",
    "print_even =  ([1, 3, 2, 10, 12, 11, 15])\n",
    "\n",
    "# 매개변수 없이 사용하면 전역변수에 더 의존하므로\n",
    "# 1. 예상치못한 오류\n",
    "# 2. 함수의 독립성 부족\n",
    "# 4. 테스트 어려움.\n",
    "def print_score():\n",
    "    even_num = [num for num in print_even if num % 2 == 0]\n",
    "    return even_num\n",
    "\n",
    "print_score()"
   ]
  },
  {
   "cell_type": "markdown",
   "metadata": {
    "id": "ZkGserEsQS0L"
   },
   "source": [
    "__[문제2]__\n",
    "\n",
    "비어있는 오즈 (oz) 클래스를 \"정의\" 해보세요."
   ]
  },
  {
   "cell_type": "code",
   "execution_count": 19,
   "metadata": {
    "id": "dJbcWWlwL0iK"
   },
   "outputs": [],
   "source": [
    "class oz:\n",
    "    pass"
   ]
  },
  {
   "cell_type": "markdown",
   "metadata": {},
   "source": [
    "---"
   ]
  },
  {
   "cell_type": "markdown",
   "metadata": {
    "id": "Ofy86rZfL1Mg"
   },
   "source": [
    "__[문제3]__\n",
    "\n",
    "오즈(oz) 클래스의 인스턴스를 \"생성\" 하고 이를 coding 변수로 할당해보세요."
   ]
  },
  {
   "cell_type": "code",
   "execution_count": null,
   "metadata": {
    "id": "5NhWiuULL2Xa"
   },
   "outputs": [],
   "source": [
    "class oz:\n",
    "    pass\n",
    "\n",
    "coding = oz()"
   ]
  },
  {
   "cell_type": "markdown",
   "metadata": {},
   "source": [
    "---"
   ]
  },
  {
   "cell_type": "markdown",
   "metadata": {
    "id": "5T6EMx8EL26b"
   },
   "source": [
    "[문제4]\n",
    "\n",
    "오즈(oz) 클래스에 \"클래스 정복\"을 출력하는 기본 생성자를 추가해주세요"
   ]
  },
  {
   "cell_type": "code",
   "execution_count": 22,
   "metadata": {
    "id": "Zq35PXA0L3-m"
   },
   "outputs": [
    {
     "name": "stdout",
     "output_type": "stream",
     "text": [
      "클래스 정복\n"
     ]
    }
   ],
   "source": [
    "class oz:\n",
    "    def __init__(self):\n",
    "        print(\"클래스 정복\")\n",
    "\n",
    "coding = oz() # \"클래스 정복\" 출력"
   ]
  },
  {
   "cell_type": "markdown",
   "metadata": {},
   "source": [
    "---"
   ]
  },
  {
   "cell_type": "markdown",
   "metadata": {
    "id": "htuycQWSL4l-"
   },
   "source": [
    "__[문제5]__\n",
    "\n",
    "오즈 (oz) 클래스에 (이름, 나이, 코딩레벨)을 받는 생성자를 추가해주세요\n",
    "\n",
    "coding = oz(\"김코\", 30, \"A\")\n"
   ]
  },
  {
   "cell_type": "code",
   "execution_count": 23,
   "metadata": {
    "id": "A7h3I8CWL5ox"
   },
   "outputs": [],
   "source": [
    "class oz:\n",
    "    def __init__(self, name, age, coding_level):\n",
    "        self.name = name\n",
    "        self.age = age\n",
    "        self.coding_level = coding_level\n",
    "\n",
    "coding = oz(\"김코\", 30, \"A\")        "
   ]
  },
  {
   "cell_type": "markdown",
   "metadata": {},
   "source": [
    "---"
   ]
  },
  {
   "cell_type": "markdown",
   "metadata": {
    "id": "ZGDLHI5xL6Bd"
   },
   "source": [
    "__[문제6]__\n",
    "\n",
    "5번 문제에서 생성한 인스턴스의 이름, 나이, 성별을 출력해주세요.\n",
    "\n",
    "\n",
    "\n",
    "출력 결과  ) <br>\n",
    "이름 : 김코  \n",
    "나이 : 30  \n",
    "코딩레벨 : A  \n",
    "\n",
    "__Tips__\n",
    "\n",
    "\n",
    "- 인스턴스 변수에 접근하여 값을 출력하면 됩니다  : )"
   ]
  },
  {
   "cell_type": "code",
   "execution_count": null,
   "metadata": {
    "id": "qCrPejI_L8Wr"
   },
   "outputs": [],
   "source": [
    "print(\"이름\", coding.name)\n",
    "print(\"나이\", coding.age)\n",
    "print(\"코딩레벨 :\", coding.coding_level)"
   ]
  },
  {
   "cell_type": "markdown",
   "metadata": {},
   "source": [
    "---"
   ]
  },
  {
   "cell_type": "markdown",
   "metadata": {
    "id": "RmtPk-A1L8z4"
   },
   "source": [
    "__[문제7]__\n",
    "\n",
    "오즈 (oz) 클래스에서 이름, 나이, 성별을 출력하는 who() 메소드를 추가하고 who()메소드를 이용해 아래 출력 결과를 만들어주세요\n",
    "\n",
    "\n",
    "출력 결과 ) <br>\n",
    "이름: 김코, 나이: 30, 코딩레벨: A"
   ]
  },
  {
   "cell_type": "code",
   "execution_count": 5,
   "metadata": {
    "id": "fvrvm87vL_HZ"
   },
   "outputs": [
    {
     "name": "stdout",
     "output_type": "stream",
     "text": [
      "이름: 김코, 나이: 30, 코딩레벨: A\n"
     ]
    }
   ],
   "source": [
    "# 클래스 생성\n",
    "class oz:\n",
    "    # 생성자 (객체(oz클래스로부터 만들어진 인스턴스)가 생성될 때 자동으로 호출됨)\n",
    "    def __init__(self, name, age, coding_level):\n",
    "        self.name = name # 이름 속성 설정\n",
    "        self.age = age # 나이 속성 설정\n",
    "        self.coding_level = coding_level # 코딩 레벨 속성 설정\n",
    "\n",
    "    # who() 메소드 : 인스턴스의 정보를 문자열로 반환\n",
    "    # 클래스 내에 정의되면 메소드, 클래스 외에 정의하면 함수\n",
    "    def who(self):\n",
    "        return f'이름: {self.name}, 나이: {self.age}, 코딩레벨: {self.coding_level}'\n",
    "\n",
    "# 클래스로부터 생성된 oz클래스의 인스턴스, coding 변수에 저장    \n",
    "coding = oz(\"김코\", 30, \"A\")\n",
    "\n",
    "# coding 인스턴스의 who()메서드 호출하여 결과 출력\n",
    "print(coding.who())\n",
    "        "
   ]
  },
  {
   "cell_type": "markdown",
   "metadata": {},
   "source": [
    "__[문제7]__\n",
    "\n",
    "오즈 (oz) 클래스에서 이름, 나이, 성별을 출력하는 who() 메소드를 추가하고 who()메소드를 이용해 아래 출력 결과를 만들어주세요\n",
    "\n",
    "\n",
    "출력 결과 ) <br>\n",
    "이름: 김코, 나이: 30, 코딩레벨: A"
   ]
  }
 ],
 "metadata": {
  "colab": {
   "authorship_tag": "ABX9TyMfxSNOybrh/E7+DQqfYMY3",
   "provenance": []
  },
  "kernelspec": {
   "display_name": "Python 3",
   "name": "python3"
  },
  "language_info": {
   "codemirror_mode": {
    "name": "ipython",
    "version": 3
   },
   "file_extension": ".py",
   "mimetype": "text/x-python",
   "name": "python",
   "nbconvert_exporter": "python",
   "pygments_lexer": "ipython3",
   "version": "3.9.6"
  }
 },
 "nbformat": 4,
 "nbformat_minor": 0
}
